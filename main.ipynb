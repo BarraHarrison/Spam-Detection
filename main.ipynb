{
 "cells": [
  {
   "cell_type": "code",
   "execution_count": 32,
   "id": "deb41245-e12e-4d2f-a2e9-dea0b4d38e0a",
   "metadata": {},
   "outputs": [],
   "source": [
    "import string \n",
    "\n",
    "import numpy as np\n",
    "import pandas as pd\n",
    "\n",
    "import nltk\n",
    "from nltk.corpus import stopwords\n",
    "from nltk.stem.porter import PorterStemmer\n",
    "\n",
    "from sklearn.feature_extraction.text import CountVectorizer\n",
    "from sklearn.model_selection import train_test_split\n",
    "from sklearn.ensemble import RandomForestClassifier"
   ]
  },
  {
   "cell_type": "code",
   "execution_count": 33,
   "id": "735e9dd7-f61c-4de3-93fe-bfb0ce25e62f",
   "metadata": {},
   "outputs": [
    {
     "name": "stderr",
     "output_type": "stream",
     "text": [
      "[nltk_data] Downloading package stopwords to\n",
      "[nltk_data]     /Users/barraharrison/nltk_data...\n",
      "[nltk_data]   Package stopwords is already up-to-date!\n"
     ]
    },
    {
     "data": {
      "text/plain": [
       "True"
      ]
     },
     "execution_count": 33,
     "metadata": {},
     "output_type": "execute_result"
    }
   ],
   "source": [
    "nltk.download(\"stopwords\")"
   ]
  },
  {
   "cell_type": "code",
   "execution_count": 34,
   "id": "71377d3c-78d2-4d90-87db-40bbb279c913",
   "metadata": {},
   "outputs": [],
   "source": [
    "df = pd.read_csv(\"spam_ham_dataset.csv\")"
   ]
  },
  {
   "cell_type": "code",
   "execution_count": 35,
   "id": "21e3802f-0ac0-4de1-9291-2c8182897312",
   "metadata": {},
   "outputs": [],
   "source": [
    "df[\"text\"] = df[\"text\"].apply(lambda x: x.replace(\"\\r\\n\", \" \"))"
   ]
  },
  {
   "cell_type": "code",
   "execution_count": 36,
   "id": "d1a3d01b-6365-4149-9237-3f178f9682bf",
   "metadata": {},
   "outputs": [],
   "source": [
    "# We only need the text and label_num columns from the dataset"
   ]
  },
  {
   "cell_type": "code",
   "execution_count": 37,
   "id": "04f77ffe-e28b-4293-bba9-dee06c63499b",
   "metadata": {},
   "outputs": [
    {
     "data": {
      "text/html": [
       "<div>\n",
       "<style scoped>\n",
       "    .dataframe tbody tr th:only-of-type {\n",
       "        vertical-align: middle;\n",
       "    }\n",
       "\n",
       "    .dataframe tbody tr th {\n",
       "        vertical-align: top;\n",
       "    }\n",
       "\n",
       "    .dataframe thead th {\n",
       "        text-align: right;\n",
       "    }\n",
       "</style>\n",
       "<table border=\"1\" class=\"dataframe\">\n",
       "  <thead>\n",
       "    <tr style=\"text-align: right;\">\n",
       "      <th></th>\n",
       "      <th>Unnamed: 0</th>\n",
       "      <th>label</th>\n",
       "      <th>text</th>\n",
       "      <th>label_num</th>\n",
       "    </tr>\n",
       "  </thead>\n",
       "  <tbody>\n",
       "    <tr>\n",
       "      <th>0</th>\n",
       "      <td>605</td>\n",
       "      <td>ham</td>\n",
       "      <td>Subject: enron methanol ; meter # : 988291 thi...</td>\n",
       "      <td>0</td>\n",
       "    </tr>\n",
       "    <tr>\n",
       "      <th>1</th>\n",
       "      <td>2349</td>\n",
       "      <td>ham</td>\n",
       "      <td>Subject: hpl nom for january 9 , 2001 ( see at...</td>\n",
       "      <td>0</td>\n",
       "    </tr>\n",
       "    <tr>\n",
       "      <th>2</th>\n",
       "      <td>3624</td>\n",
       "      <td>ham</td>\n",
       "      <td>Subject: neon retreat ho ho ho , we ' re aroun...</td>\n",
       "      <td>0</td>\n",
       "    </tr>\n",
       "    <tr>\n",
       "      <th>3</th>\n",
       "      <td>4685</td>\n",
       "      <td>spam</td>\n",
       "      <td>Subject: photoshop , windows , office . cheap ...</td>\n",
       "      <td>1</td>\n",
       "    </tr>\n",
       "    <tr>\n",
       "      <th>4</th>\n",
       "      <td>2030</td>\n",
       "      <td>ham</td>\n",
       "      <td>Subject: re : indian springs this deal is to b...</td>\n",
       "      <td>0</td>\n",
       "    </tr>\n",
       "    <tr>\n",
       "      <th>...</th>\n",
       "      <td>...</td>\n",
       "      <td>...</td>\n",
       "      <td>...</td>\n",
       "      <td>...</td>\n",
       "    </tr>\n",
       "    <tr>\n",
       "      <th>5166</th>\n",
       "      <td>1518</td>\n",
       "      <td>ham</td>\n",
       "      <td>Subject: put the 10 on the ft the transport vo...</td>\n",
       "      <td>0</td>\n",
       "    </tr>\n",
       "    <tr>\n",
       "      <th>5167</th>\n",
       "      <td>404</td>\n",
       "      <td>ham</td>\n",
       "      <td>Subject: 3 / 4 / 2000 and following noms hpl c...</td>\n",
       "      <td>0</td>\n",
       "    </tr>\n",
       "    <tr>\n",
       "      <th>5168</th>\n",
       "      <td>2933</td>\n",
       "      <td>ham</td>\n",
       "      <td>Subject: calpine daily gas nomination &gt; &gt; juli...</td>\n",
       "      <td>0</td>\n",
       "    </tr>\n",
       "    <tr>\n",
       "      <th>5169</th>\n",
       "      <td>1409</td>\n",
       "      <td>ham</td>\n",
       "      <td>Subject: industrial worksheets for august 2000...</td>\n",
       "      <td>0</td>\n",
       "    </tr>\n",
       "    <tr>\n",
       "      <th>5170</th>\n",
       "      <td>4807</td>\n",
       "      <td>spam</td>\n",
       "      <td>Subject: important online banking alert dear v...</td>\n",
       "      <td>1</td>\n",
       "    </tr>\n",
       "  </tbody>\n",
       "</table>\n",
       "<p>5171 rows × 4 columns</p>\n",
       "</div>"
      ],
      "text/plain": [
       "      Unnamed: 0 label                                               text  \\\n",
       "0            605   ham  Subject: enron methanol ; meter # : 988291 thi...   \n",
       "1           2349   ham  Subject: hpl nom for january 9 , 2001 ( see at...   \n",
       "2           3624   ham  Subject: neon retreat ho ho ho , we ' re aroun...   \n",
       "3           4685  spam  Subject: photoshop , windows , office . cheap ...   \n",
       "4           2030   ham  Subject: re : indian springs this deal is to b...   \n",
       "...          ...   ...                                                ...   \n",
       "5166        1518   ham  Subject: put the 10 on the ft the transport vo...   \n",
       "5167         404   ham  Subject: 3 / 4 / 2000 and following noms hpl c...   \n",
       "5168        2933   ham  Subject: calpine daily gas nomination > > juli...   \n",
       "5169        1409   ham  Subject: industrial worksheets for august 2000...   \n",
       "5170        4807  spam  Subject: important online banking alert dear v...   \n",
       "\n",
       "      label_num  \n",
       "0             0  \n",
       "1             0  \n",
       "2             0  \n",
       "3             1  \n",
       "4             0  \n",
       "...         ...  \n",
       "5166          0  \n",
       "5167          0  \n",
       "5168          0  \n",
       "5169          0  \n",
       "5170          1  \n",
       "\n",
       "[5171 rows x 4 columns]"
      ]
     },
     "execution_count": 37,
     "metadata": {},
     "output_type": "execute_result"
    }
   ],
   "source": [
    "df"
   ]
  },
  {
   "cell_type": "code",
   "execution_count": 38,
   "id": "c4c37a64-f0f3-44cb-9120-037ea13ee177",
   "metadata": {},
   "outputs": [
    {
     "name": "stdout",
     "output_type": "stream",
     "text": [
      "<class 'pandas.core.frame.DataFrame'>\n",
      "RangeIndex: 5171 entries, 0 to 5170\n",
      "Data columns (total 4 columns):\n",
      " #   Column      Non-Null Count  Dtype \n",
      "---  ------      --------------  ----- \n",
      " 0   Unnamed: 0  5171 non-null   int64 \n",
      " 1   label       5171 non-null   object\n",
      " 2   text        5171 non-null   object\n",
      " 3   label_num   5171 non-null   int64 \n",
      "dtypes: int64(2), object(2)\n",
      "memory usage: 161.7+ KB\n"
     ]
    }
   ],
   "source": [
    "df.info()"
   ]
  },
  {
   "cell_type": "markdown",
   "id": "957ed666-7024-4517-8143-5f2c104b5a10",
   "metadata": {},
   "source": [
    "# Data Preprocessing"
   ]
  },
  {
   "cell_type": "code",
   "execution_count": 39,
   "id": "b74c1957-ce0d-4cb0-b4b2-c3728865028b",
   "metadata": {},
   "outputs": [],
   "source": [
    "# Removing the punctuation and turn everything into lowercase"
   ]
  },
  {
   "cell_type": "code",
   "execution_count": 40,
   "id": "3a87e7af-871c-42c6-bce5-bb5dbad1e384",
   "metadata": {},
   "outputs": [],
   "source": [
    "stemmer = PorterStemmer()"
   ]
  },
  {
   "cell_type": "code",
   "execution_count": 41,
   "id": "c643af02-1b66-4557-b89f-dc0191186b4e",
   "metadata": {},
   "outputs": [
    {
     "data": {
      "text/plain": [
       "'run'"
      ]
     },
     "execution_count": 41,
     "metadata": {},
     "output_type": "execute_result"
    }
   ],
   "source": [
    "stemmer.stem(\"running\")"
   ]
  },
  {
   "cell_type": "code",
   "execution_count": 42,
   "id": "0963dc85-d9a3-4edd-8dea-99819ae0ee25",
   "metadata": {},
   "outputs": [
    {
     "data": {
      "text/plain": [
       "'talk'"
      ]
     },
     "execution_count": 42,
     "metadata": {},
     "output_type": "execute_result"
    }
   ],
   "source": [
    "stemmer.stem(\"talking\")"
   ]
  },
  {
   "cell_type": "code",
   "execution_count": 43,
   "id": "264548bc-2323-48ec-9924-15c4724cec81",
   "metadata": {},
   "outputs": [
    {
     "data": {
      "text/plain": [
       "'hello'"
      ]
     },
     "execution_count": 43,
     "metadata": {},
     "output_type": "execute_result"
    }
   ],
   "source": [
    "stemmer.stem(\"Hello\")"
   ]
  },
  {
   "cell_type": "code",
   "execution_count": 44,
   "id": "8ef61326-7d89-48cc-9f7b-19efb3224057",
   "metadata": {},
   "outputs": [],
   "source": [
    "stemmer = PorterStemmer()\n",
    "corpus = []\n",
    "\n",
    "stopwords_set = set(stopwords.words(\"english\"))\n",
    "\n",
    "for i in range(len(df)):\n",
    "    text = df[\"text\"].iloc[i].lower()\n",
    "    text = text.translate(str.maketrans(\" \", \" \", string.punctuation)).split()\n",
    "    text = [stemmer.stem(word) for word in text if word not in stopwords_set]\n",
    "    text = \" \".join(text)\n",
    "    corpus.append(text)"
   ]
  },
  {
   "cell_type": "code",
   "execution_count": 45,
   "id": "39408a6a-fe33-4941-865f-c166d660028a",
   "metadata": {},
   "outputs": [
    {
     "data": {
      "text/plain": [
       "\"Subject: enron methanol ; meter # : 988291 this is a follow up to the note i gave you on monday , 4 / 3 / 00 { preliminary flow data provided by daren } . please override pop ' s daily volume { presently zero } to reflect daily activity you can obtain from gas control . this change is needed asap for economics purposes .\""
      ]
     },
     "execution_count": 45,
     "metadata": {},
     "output_type": "execute_result"
    }
   ],
   "source": [
    "df.text.iloc[0]"
   ]
  },
  {
   "cell_type": "code",
   "execution_count": 46,
   "id": "a8f0b652-94a6-4fd5-9984-feeb9f3b30b3",
   "metadata": {},
   "outputs": [
    {
     "data": {
      "text/plain": [
       "'subject enron methanol meter 988291 follow note gave monday 4 3 00 preliminari flow data provid daren pleas overrid pop daili volum present zero reflect daili activ obtain ga control chang need asap econom purpos'"
      ]
     },
     "execution_count": 46,
     "metadata": {},
     "output_type": "execute_result"
    }
   ],
   "source": [
    "corpus[0]"
   ]
  },
  {
   "cell_type": "code",
   "execution_count": 47,
   "id": "a8cf7119-ff50-4eaa-bd94-52139a6729ec",
   "metadata": {},
   "outputs": [
    {
     "data": {
      "text/plain": [
       "'Subject: hpl nom for january 9 , 2001 ( see attached file : hplnol 09 . xls ) - hplnol 09 . xls'"
      ]
     },
     "execution_count": 47,
     "metadata": {},
     "output_type": "execute_result"
    }
   ],
   "source": [
    "df.text.iloc[1]"
   ]
  },
  {
   "cell_type": "code",
   "execution_count": 48,
   "id": "7e4d1fa2-f5f8-4066-991c-0a194754f11e",
   "metadata": {},
   "outputs": [
    {
     "data": {
      "text/plain": [
       "'subject hpl nom januari 9 2001 see attach file hplnol 09 xl hplnol 09 xl'"
      ]
     },
     "execution_count": 48,
     "metadata": {},
     "output_type": "execute_result"
    }
   ],
   "source": [
    "corpus[1]"
   ]
  },
  {
   "cell_type": "code",
   "execution_count": 50,
   "id": "35d801b3-c727-43b2-b357-7312e77c87a0",
   "metadata": {},
   "outputs": [],
   "source": [
    "vectorizer = CountVectorizer()\n",
    "\n",
    "# X data is going to be the email content\n",
    "X = vectorizer.fit_transform(corpus).toarray()\n",
    "y = df.label_num\n",
    "\n",
    "# Test Data is 20%\n",
    "X_train, X_test, y_train, y_test = train_test_split(X, y, test_size=0.2)"
   ]
  },
  {
   "cell_type": "code",
   "execution_count": 51,
   "id": "e0cb09b6-9e2d-4741-8a05-b183d86f0887",
   "metadata": {},
   "outputs": [
    {
     "data": {
      "text/html": [
       "<style>#sk-container-id-1 {\n",
       "  /* Definition of color scheme common for light and dark mode */\n",
       "  --sklearn-color-text: #000;\n",
       "  --sklearn-color-text-muted: #666;\n",
       "  --sklearn-color-line: gray;\n",
       "  /* Definition of color scheme for unfitted estimators */\n",
       "  --sklearn-color-unfitted-level-0: #fff5e6;\n",
       "  --sklearn-color-unfitted-level-1: #f6e4d2;\n",
       "  --sklearn-color-unfitted-level-2: #ffe0b3;\n",
       "  --sklearn-color-unfitted-level-3: chocolate;\n",
       "  /* Definition of color scheme for fitted estimators */\n",
       "  --sklearn-color-fitted-level-0: #f0f8ff;\n",
       "  --sklearn-color-fitted-level-1: #d4ebff;\n",
       "  --sklearn-color-fitted-level-2: #b3dbfd;\n",
       "  --sklearn-color-fitted-level-3: cornflowerblue;\n",
       "\n",
       "  /* Specific color for light theme */\n",
       "  --sklearn-color-text-on-default-background: var(--sg-text-color, var(--theme-code-foreground, var(--jp-content-font-color1, black)));\n",
       "  --sklearn-color-background: var(--sg-background-color, var(--theme-background, var(--jp-layout-color0, white)));\n",
       "  --sklearn-color-border-box: var(--sg-text-color, var(--theme-code-foreground, var(--jp-content-font-color1, black)));\n",
       "  --sklearn-color-icon: #696969;\n",
       "\n",
       "  @media (prefers-color-scheme: dark) {\n",
       "    /* Redefinition of color scheme for dark theme */\n",
       "    --sklearn-color-text-on-default-background: var(--sg-text-color, var(--theme-code-foreground, var(--jp-content-font-color1, white)));\n",
       "    --sklearn-color-background: var(--sg-background-color, var(--theme-background, var(--jp-layout-color0, #111)));\n",
       "    --sklearn-color-border-box: var(--sg-text-color, var(--theme-code-foreground, var(--jp-content-font-color1, white)));\n",
       "    --sklearn-color-icon: #878787;\n",
       "  }\n",
       "}\n",
       "\n",
       "#sk-container-id-1 {\n",
       "  color: var(--sklearn-color-text);\n",
       "}\n",
       "\n",
       "#sk-container-id-1 pre {\n",
       "  padding: 0;\n",
       "}\n",
       "\n",
       "#sk-container-id-1 input.sk-hidden--visually {\n",
       "  border: 0;\n",
       "  clip: rect(1px 1px 1px 1px);\n",
       "  clip: rect(1px, 1px, 1px, 1px);\n",
       "  height: 1px;\n",
       "  margin: -1px;\n",
       "  overflow: hidden;\n",
       "  padding: 0;\n",
       "  position: absolute;\n",
       "  width: 1px;\n",
       "}\n",
       "\n",
       "#sk-container-id-1 div.sk-dashed-wrapped {\n",
       "  border: 1px dashed var(--sklearn-color-line);\n",
       "  margin: 0 0.4em 0.5em 0.4em;\n",
       "  box-sizing: border-box;\n",
       "  padding-bottom: 0.4em;\n",
       "  background-color: var(--sklearn-color-background);\n",
       "}\n",
       "\n",
       "#sk-container-id-1 div.sk-container {\n",
       "  /* jupyter's `normalize.less` sets `[hidden] { display: none; }`\n",
       "     but bootstrap.min.css set `[hidden] { display: none !important; }`\n",
       "     so we also need the `!important` here to be able to override the\n",
       "     default hidden behavior on the sphinx rendered scikit-learn.org.\n",
       "     See: https://github.com/scikit-learn/scikit-learn/issues/21755 */\n",
       "  display: inline-block !important;\n",
       "  position: relative;\n",
       "}\n",
       "\n",
       "#sk-container-id-1 div.sk-text-repr-fallback {\n",
       "  display: none;\n",
       "}\n",
       "\n",
       "div.sk-parallel-item,\n",
       "div.sk-serial,\n",
       "div.sk-item {\n",
       "  /* draw centered vertical line to link estimators */\n",
       "  background-image: linear-gradient(var(--sklearn-color-text-on-default-background), var(--sklearn-color-text-on-default-background));\n",
       "  background-size: 2px 100%;\n",
       "  background-repeat: no-repeat;\n",
       "  background-position: center center;\n",
       "}\n",
       "\n",
       "/* Parallel-specific style estimator block */\n",
       "\n",
       "#sk-container-id-1 div.sk-parallel-item::after {\n",
       "  content: \"\";\n",
       "  width: 100%;\n",
       "  border-bottom: 2px solid var(--sklearn-color-text-on-default-background);\n",
       "  flex-grow: 1;\n",
       "}\n",
       "\n",
       "#sk-container-id-1 div.sk-parallel {\n",
       "  display: flex;\n",
       "  align-items: stretch;\n",
       "  justify-content: center;\n",
       "  background-color: var(--sklearn-color-background);\n",
       "  position: relative;\n",
       "}\n",
       "\n",
       "#sk-container-id-1 div.sk-parallel-item {\n",
       "  display: flex;\n",
       "  flex-direction: column;\n",
       "}\n",
       "\n",
       "#sk-container-id-1 div.sk-parallel-item:first-child::after {\n",
       "  align-self: flex-end;\n",
       "  width: 50%;\n",
       "}\n",
       "\n",
       "#sk-container-id-1 div.sk-parallel-item:last-child::after {\n",
       "  align-self: flex-start;\n",
       "  width: 50%;\n",
       "}\n",
       "\n",
       "#sk-container-id-1 div.sk-parallel-item:only-child::after {\n",
       "  width: 0;\n",
       "}\n",
       "\n",
       "/* Serial-specific style estimator block */\n",
       "\n",
       "#sk-container-id-1 div.sk-serial {\n",
       "  display: flex;\n",
       "  flex-direction: column;\n",
       "  align-items: center;\n",
       "  background-color: var(--sklearn-color-background);\n",
       "  padding-right: 1em;\n",
       "  padding-left: 1em;\n",
       "}\n",
       "\n",
       "\n",
       "/* Toggleable style: style used for estimator/Pipeline/ColumnTransformer box that is\n",
       "clickable and can be expanded/collapsed.\n",
       "- Pipeline and ColumnTransformer use this feature and define the default style\n",
       "- Estimators will overwrite some part of the style using the `sk-estimator` class\n",
       "*/\n",
       "\n",
       "/* Pipeline and ColumnTransformer style (default) */\n",
       "\n",
       "#sk-container-id-1 div.sk-toggleable {\n",
       "  /* Default theme specific background. It is overwritten whether we have a\n",
       "  specific estimator or a Pipeline/ColumnTransformer */\n",
       "  background-color: var(--sklearn-color-background);\n",
       "}\n",
       "\n",
       "/* Toggleable label */\n",
       "#sk-container-id-1 label.sk-toggleable__label {\n",
       "  cursor: pointer;\n",
       "  display: flex;\n",
       "  width: 100%;\n",
       "  margin-bottom: 0;\n",
       "  padding: 0.5em;\n",
       "  box-sizing: border-box;\n",
       "  text-align: center;\n",
       "  align-items: start;\n",
       "  justify-content: space-between;\n",
       "  gap: 0.5em;\n",
       "}\n",
       "\n",
       "#sk-container-id-1 label.sk-toggleable__label .caption {\n",
       "  font-size: 0.6rem;\n",
       "  font-weight: lighter;\n",
       "  color: var(--sklearn-color-text-muted);\n",
       "}\n",
       "\n",
       "#sk-container-id-1 label.sk-toggleable__label-arrow:before {\n",
       "  /* Arrow on the left of the label */\n",
       "  content: \"▸\";\n",
       "  float: left;\n",
       "  margin-right: 0.25em;\n",
       "  color: var(--sklearn-color-icon);\n",
       "}\n",
       "\n",
       "#sk-container-id-1 label.sk-toggleable__label-arrow:hover:before {\n",
       "  color: var(--sklearn-color-text);\n",
       "}\n",
       "\n",
       "/* Toggleable content - dropdown */\n",
       "\n",
       "#sk-container-id-1 div.sk-toggleable__content {\n",
       "  max-height: 0;\n",
       "  max-width: 0;\n",
       "  overflow: hidden;\n",
       "  text-align: left;\n",
       "  /* unfitted */\n",
       "  background-color: var(--sklearn-color-unfitted-level-0);\n",
       "}\n",
       "\n",
       "#sk-container-id-1 div.sk-toggleable__content.fitted {\n",
       "  /* fitted */\n",
       "  background-color: var(--sklearn-color-fitted-level-0);\n",
       "}\n",
       "\n",
       "#sk-container-id-1 div.sk-toggleable__content pre {\n",
       "  margin: 0.2em;\n",
       "  border-radius: 0.25em;\n",
       "  color: var(--sklearn-color-text);\n",
       "  /* unfitted */\n",
       "  background-color: var(--sklearn-color-unfitted-level-0);\n",
       "}\n",
       "\n",
       "#sk-container-id-1 div.sk-toggleable__content.fitted pre {\n",
       "  /* unfitted */\n",
       "  background-color: var(--sklearn-color-fitted-level-0);\n",
       "}\n",
       "\n",
       "#sk-container-id-1 input.sk-toggleable__control:checked~div.sk-toggleable__content {\n",
       "  /* Expand drop-down */\n",
       "  max-height: 200px;\n",
       "  max-width: 100%;\n",
       "  overflow: auto;\n",
       "}\n",
       "\n",
       "#sk-container-id-1 input.sk-toggleable__control:checked~label.sk-toggleable__label-arrow:before {\n",
       "  content: \"▾\";\n",
       "}\n",
       "\n",
       "/* Pipeline/ColumnTransformer-specific style */\n",
       "\n",
       "#sk-container-id-1 div.sk-label input.sk-toggleable__control:checked~label.sk-toggleable__label {\n",
       "  color: var(--sklearn-color-text);\n",
       "  background-color: var(--sklearn-color-unfitted-level-2);\n",
       "}\n",
       "\n",
       "#sk-container-id-1 div.sk-label.fitted input.sk-toggleable__control:checked~label.sk-toggleable__label {\n",
       "  background-color: var(--sklearn-color-fitted-level-2);\n",
       "}\n",
       "\n",
       "/* Estimator-specific style */\n",
       "\n",
       "/* Colorize estimator box */\n",
       "#sk-container-id-1 div.sk-estimator input.sk-toggleable__control:checked~label.sk-toggleable__label {\n",
       "  /* unfitted */\n",
       "  background-color: var(--sklearn-color-unfitted-level-2);\n",
       "}\n",
       "\n",
       "#sk-container-id-1 div.sk-estimator.fitted input.sk-toggleable__control:checked~label.sk-toggleable__label {\n",
       "  /* fitted */\n",
       "  background-color: var(--sklearn-color-fitted-level-2);\n",
       "}\n",
       "\n",
       "#sk-container-id-1 div.sk-label label.sk-toggleable__label,\n",
       "#sk-container-id-1 div.sk-label label {\n",
       "  /* The background is the default theme color */\n",
       "  color: var(--sklearn-color-text-on-default-background);\n",
       "}\n",
       "\n",
       "/* On hover, darken the color of the background */\n",
       "#sk-container-id-1 div.sk-label:hover label.sk-toggleable__label {\n",
       "  color: var(--sklearn-color-text);\n",
       "  background-color: var(--sklearn-color-unfitted-level-2);\n",
       "}\n",
       "\n",
       "/* Label box, darken color on hover, fitted */\n",
       "#sk-container-id-1 div.sk-label.fitted:hover label.sk-toggleable__label.fitted {\n",
       "  color: var(--sklearn-color-text);\n",
       "  background-color: var(--sklearn-color-fitted-level-2);\n",
       "}\n",
       "\n",
       "/* Estimator label */\n",
       "\n",
       "#sk-container-id-1 div.sk-label label {\n",
       "  font-family: monospace;\n",
       "  font-weight: bold;\n",
       "  display: inline-block;\n",
       "  line-height: 1.2em;\n",
       "}\n",
       "\n",
       "#sk-container-id-1 div.sk-label-container {\n",
       "  text-align: center;\n",
       "}\n",
       "\n",
       "/* Estimator-specific */\n",
       "#sk-container-id-1 div.sk-estimator {\n",
       "  font-family: monospace;\n",
       "  border: 1px dotted var(--sklearn-color-border-box);\n",
       "  border-radius: 0.25em;\n",
       "  box-sizing: border-box;\n",
       "  margin-bottom: 0.5em;\n",
       "  /* unfitted */\n",
       "  background-color: var(--sklearn-color-unfitted-level-0);\n",
       "}\n",
       "\n",
       "#sk-container-id-1 div.sk-estimator.fitted {\n",
       "  /* fitted */\n",
       "  background-color: var(--sklearn-color-fitted-level-0);\n",
       "}\n",
       "\n",
       "/* on hover */\n",
       "#sk-container-id-1 div.sk-estimator:hover {\n",
       "  /* unfitted */\n",
       "  background-color: var(--sklearn-color-unfitted-level-2);\n",
       "}\n",
       "\n",
       "#sk-container-id-1 div.sk-estimator.fitted:hover {\n",
       "  /* fitted */\n",
       "  background-color: var(--sklearn-color-fitted-level-2);\n",
       "}\n",
       "\n",
       "/* Specification for estimator info (e.g. \"i\" and \"?\") */\n",
       "\n",
       "/* Common style for \"i\" and \"?\" */\n",
       "\n",
       ".sk-estimator-doc-link,\n",
       "a:link.sk-estimator-doc-link,\n",
       "a:visited.sk-estimator-doc-link {\n",
       "  float: right;\n",
       "  font-size: smaller;\n",
       "  line-height: 1em;\n",
       "  font-family: monospace;\n",
       "  background-color: var(--sklearn-color-background);\n",
       "  border-radius: 1em;\n",
       "  height: 1em;\n",
       "  width: 1em;\n",
       "  text-decoration: none !important;\n",
       "  margin-left: 0.5em;\n",
       "  text-align: center;\n",
       "  /* unfitted */\n",
       "  border: var(--sklearn-color-unfitted-level-1) 1pt solid;\n",
       "  color: var(--sklearn-color-unfitted-level-1);\n",
       "}\n",
       "\n",
       ".sk-estimator-doc-link.fitted,\n",
       "a:link.sk-estimator-doc-link.fitted,\n",
       "a:visited.sk-estimator-doc-link.fitted {\n",
       "  /* fitted */\n",
       "  border: var(--sklearn-color-fitted-level-1) 1pt solid;\n",
       "  color: var(--sklearn-color-fitted-level-1);\n",
       "}\n",
       "\n",
       "/* On hover */\n",
       "div.sk-estimator:hover .sk-estimator-doc-link:hover,\n",
       ".sk-estimator-doc-link:hover,\n",
       "div.sk-label-container:hover .sk-estimator-doc-link:hover,\n",
       ".sk-estimator-doc-link:hover {\n",
       "  /* unfitted */\n",
       "  background-color: var(--sklearn-color-unfitted-level-3);\n",
       "  color: var(--sklearn-color-background);\n",
       "  text-decoration: none;\n",
       "}\n",
       "\n",
       "div.sk-estimator.fitted:hover .sk-estimator-doc-link.fitted:hover,\n",
       ".sk-estimator-doc-link.fitted:hover,\n",
       "div.sk-label-container:hover .sk-estimator-doc-link.fitted:hover,\n",
       ".sk-estimator-doc-link.fitted:hover {\n",
       "  /* fitted */\n",
       "  background-color: var(--sklearn-color-fitted-level-3);\n",
       "  color: var(--sklearn-color-background);\n",
       "  text-decoration: none;\n",
       "}\n",
       "\n",
       "/* Span, style for the box shown on hovering the info icon */\n",
       ".sk-estimator-doc-link span {\n",
       "  display: none;\n",
       "  z-index: 9999;\n",
       "  position: relative;\n",
       "  font-weight: normal;\n",
       "  right: .2ex;\n",
       "  padding: .5ex;\n",
       "  margin: .5ex;\n",
       "  width: min-content;\n",
       "  min-width: 20ex;\n",
       "  max-width: 50ex;\n",
       "  color: var(--sklearn-color-text);\n",
       "  box-shadow: 2pt 2pt 4pt #999;\n",
       "  /* unfitted */\n",
       "  background: var(--sklearn-color-unfitted-level-0);\n",
       "  border: .5pt solid var(--sklearn-color-unfitted-level-3);\n",
       "}\n",
       "\n",
       ".sk-estimator-doc-link.fitted span {\n",
       "  /* fitted */\n",
       "  background: var(--sklearn-color-fitted-level-0);\n",
       "  border: var(--sklearn-color-fitted-level-3);\n",
       "}\n",
       "\n",
       ".sk-estimator-doc-link:hover span {\n",
       "  display: block;\n",
       "}\n",
       "\n",
       "/* \"?\"-specific style due to the `<a>` HTML tag */\n",
       "\n",
       "#sk-container-id-1 a.estimator_doc_link {\n",
       "  float: right;\n",
       "  font-size: 1rem;\n",
       "  line-height: 1em;\n",
       "  font-family: monospace;\n",
       "  background-color: var(--sklearn-color-background);\n",
       "  border-radius: 1rem;\n",
       "  height: 1rem;\n",
       "  width: 1rem;\n",
       "  text-decoration: none;\n",
       "  /* unfitted */\n",
       "  color: var(--sklearn-color-unfitted-level-1);\n",
       "  border: var(--sklearn-color-unfitted-level-1) 1pt solid;\n",
       "}\n",
       "\n",
       "#sk-container-id-1 a.estimator_doc_link.fitted {\n",
       "  /* fitted */\n",
       "  border: var(--sklearn-color-fitted-level-1) 1pt solid;\n",
       "  color: var(--sklearn-color-fitted-level-1);\n",
       "}\n",
       "\n",
       "/* On hover */\n",
       "#sk-container-id-1 a.estimator_doc_link:hover {\n",
       "  /* unfitted */\n",
       "  background-color: var(--sklearn-color-unfitted-level-3);\n",
       "  color: var(--sklearn-color-background);\n",
       "  text-decoration: none;\n",
       "}\n",
       "\n",
       "#sk-container-id-1 a.estimator_doc_link.fitted:hover {\n",
       "  /* fitted */\n",
       "  background-color: var(--sklearn-color-fitted-level-3);\n",
       "}\n",
       "</style><div id=\"sk-container-id-1\" class=\"sk-top-container\"><div class=\"sk-text-repr-fallback\"><pre>RandomForestClassifier(n_jobs=-1)</pre><b>In a Jupyter environment, please rerun this cell to show the HTML representation or trust the notebook. <br />On GitHub, the HTML representation is unable to render, please try loading this page with nbviewer.org.</b></div><div class=\"sk-container\" hidden><div class=\"sk-item\"><div class=\"sk-estimator fitted sk-toggleable\"><input class=\"sk-toggleable__control sk-hidden--visually\" id=\"sk-estimator-id-1\" type=\"checkbox\" checked><label for=\"sk-estimator-id-1\" class=\"sk-toggleable__label fitted sk-toggleable__label-arrow\"><div><div>RandomForestClassifier</div></div><div><a class=\"sk-estimator-doc-link fitted\" rel=\"noreferrer\" target=\"_blank\" href=\"https://scikit-learn.org/1.6/modules/generated/sklearn.ensemble.RandomForestClassifier.html\">?<span>Documentation for RandomForestClassifier</span></a><span class=\"sk-estimator-doc-link fitted\">i<span>Fitted</span></span></div></label><div class=\"sk-toggleable__content fitted\"><pre>RandomForestClassifier(n_jobs=-1)</pre></div> </div></div></div></div>"
      ],
      "text/plain": [
       "RandomForestClassifier(n_jobs=-1)"
      ]
     },
     "execution_count": 51,
     "metadata": {},
     "output_type": "execute_result"
    }
   ],
   "source": [
    "clf = RandomForestClassifier(n_jobs=-1)\n",
    "# n_jobs -1 is going to instruct the model to use all the cpu cores (faster)\n",
    "\n",
    "clf.fit(X_train, y_train)"
   ]
  },
  {
   "cell_type": "code",
   "execution_count": 52,
   "id": "fd26dc36-7129-4ad0-9138-9fcd1c44e2ea",
   "metadata": {},
   "outputs": [
    {
     "data": {
      "text/plain": [
       "0.9748792270531401"
      ]
     },
     "execution_count": 52,
     "metadata": {},
     "output_type": "execute_result"
    }
   ],
   "source": [
    "# Evaluating the model on the test data\n",
    "clf.score(X_test, y_test)"
   ]
  },
  {
   "cell_type": "code",
   "execution_count": 53,
   "id": "70c3f5c3-d2fc-46b1-b740-404f603f8978",
   "metadata": {},
   "outputs": [],
   "source": [
    "# The model performs well (97%)"
   ]
  },
  {
   "cell_type": "code",
   "execution_count": 54,
   "id": "70884cc4-cdc9-4fcd-bd0c-4695aa199e67",
   "metadata": {},
   "outputs": [],
   "source": [
    "email_to_classify = df.text.values[2]"
   ]
  },
  {
   "cell_type": "code",
   "execution_count": 55,
   "id": "29e172ef-e314-44bb-ab38-e5b32e93b15d",
   "metadata": {},
   "outputs": [
    {
     "data": {
      "text/plain": [
       "\"Subject: neon retreat ho ho ho , we ' re around to that most wonderful time of the year - - - neon leaders retreat time ! i know that this time of year is extremely hectic , and that it ' s tough to think about anything past the holidays , but life does go on past the week of december 25 through january 1 , and that ' s what i ' d like you to think about for a minute . on the calender that i handed out at the beginning of the fall semester , the retreat was scheduled for the weekend of january 5 - 6 . but because of a youth ministers conference that brad and dustin are connected with that week , we ' re going to change the date to the following weekend , january 12 - 13 . now comes the part you need to think about . i think we all agree that it ' s important for us to get together and have some time to recharge our batteries before we get to far into the spring semester , but it can be a lot of trouble and difficult for us to get away without kids , etc . so , brad came up with a potential alternative for how we can get together on that weekend , and then you can let me know which you prefer . the first option would be to have a retreat similar to what we ' ve done the past several years . this year we could go to the heartland country inn ( www . . com ) outside of brenham . it ' s a nice place , where we ' d have a 13 - bedroom and a 5 - bedroom house side by side . it ' s in the country , real relaxing , but also close to brenham and only about one hour and 15 minutes from here . we can golf , shop in the antique and craft stores in brenham , eat dinner together at the ranch , and spend time with each other . we ' d meet on saturday , and then return on sunday morning , just like what we ' ve done in the past . the second option would be to stay here in houston , have dinner together at a nice restaurant , and then have dessert and a time for visiting and recharging at one of our homes on that saturday evening . this might be easier , but the trade off would be that we wouldn ' t have as much time together . i ' ll let you decide . email me back with what would be your preference , and of course if you ' re available on that weekend . the democratic process will prevail - - majority vote will rule ! let me hear from you as soon as possible , preferably by the end of the weekend . and if the vote doesn ' t go your way , no complaining allowed ( like i tend to do ! ) have a great weekend , great golf , great fishing , great shopping , or whatever makes you happy ! bobby\""
      ]
     },
     "execution_count": 55,
     "metadata": {},
     "output_type": "execute_result"
    }
   ],
   "source": [
    "email_to_classify"
   ]
  },
  {
   "cell_type": "code",
   "execution_count": 56,
   "id": "e5e43404-722d-43c2-a5dc-66dc20bf1acd",
   "metadata": {},
   "outputs": [],
   "source": [
    "# Going to classify the above email as spam or not-spam"
   ]
  },
  {
   "cell_type": "code",
   "execution_count": 57,
   "id": "16d7ee9f-71d3-4e8c-8570-0c69a81f0e81",
   "metadata": {},
   "outputs": [],
   "source": [
    "email_text = email_to_classify.lower().translate(str.maketrans(\" \", \" \", string.punctuation)).split()\n",
    "email_text = [stemmer.stem(word) for word in text if word not in stopwords_set]\n",
    "email_text = \" \".join(email_text)\n",
    "\n",
    "email_corpus = [email_text]\n",
    "\n",
    "# Just call transform on the already-fitted vectorizer\n",
    "X_email = vectorizer.transform(email_corpus)"
   ]
  },
  {
   "cell_type": "code",
   "execution_count": 58,
   "id": "b629d5e6-da1c-4389-bfbc-8f394afcea1e",
   "metadata": {},
   "outputs": [
    {
     "data": {
      "text/plain": [
       "array([1])"
      ]
     },
     "execution_count": 58,
     "metadata": {},
     "output_type": "execute_result"
    }
   ],
   "source": [
    "clf.predict(X_email)"
   ]
  },
  {
   "cell_type": "code",
   "execution_count": 59,
   "id": "7a5ef22f-53ca-4ab0-9848-ac709e31370d",
   "metadata": {},
   "outputs": [
    {
     "data": {
      "text/plain": [
       "np.int64(0)"
      ]
     },
     "execution_count": 59,
     "metadata": {},
     "output_type": "execute_result"
    }
   ],
   "source": [
    "df.label_num.iloc[2]"
   ]
  },
  {
   "cell_type": "markdown",
   "id": "2f88fce0-6f39-49b0-99ab-7e951f0c6cf2",
   "metadata": {},
   "source": [
    "# EDA (Exploratory Data Analysis) "
   ]
  },
  {
   "cell_type": "code",
   "execution_count": 60,
   "id": "e2214a71-2ec1-402a-8122-59fa6b479881",
   "metadata": {},
   "outputs": [],
   "source": [
    "# Looking at the number of spam vs. non-spam emails in the dataset"
   ]
  },
  {
   "cell_type": "code",
   "execution_count": 64,
   "id": "cf8dede7-4d4e-4ccd-8cfa-a56f1f051b46",
   "metadata": {},
   "outputs": [
    {
     "data": {
      "image/png": "[encoded data removed]",
      "text/plain": [
       "<Figure size 640x480 with 1 Axes>"
      ]
     },
     "metadata": {},
     "output_type": "display_data"
    },
    {
     "name": "stdout",
     "output_type": "stream",
     "text": [
      "Class distribution (%):\n",
      " label_num\n",
      "0    71.01141\n",
      "1    28.98859\n",
      "Name: proportion, dtype: float64\n"
     ]
    }
   ],
   "source": [
    "import matplotlib.pyplot as plt\n",
    "import seaborn as sns\n",
    "\n",
    "# Plot class distribution\n",
    "sns.countplot(data=df, x='label_num')\n",
    "plt.title('Spam vs. Ham (Not-Spam) Class Distribution')\n",
    "plt.xticks(ticks=[0, 1], labels=['Ham (0)', 'Spam (1)'])\n",
    "plt.xlabel('Class')\n",
    "plt.ylabel('Count')\n",
    "plt.show()\n",
    "\n",
    "\n",
    "class_percentages = df['label_num'].value_counts(normalize=True) * 100\n",
    "print(\"Class distribution (%):\\n\", class_percentages)"
   ]
  },
  {
   "cell_type": "code",
   "execution_count": 65,
   "id": "3ee7b3b2-fe39-4ca7-b894-bddbd206192c",
   "metadata": {},
   "outputs": [],
   "source": [
    "# Emails are 71% Not-Spam and 28% are spam"
   ]
  },
  {
   "cell_type": "markdown",
   "id": "97af4781-7ddc-465a-a04a-00775ad403f2",
   "metadata": {},
   "source": [
    "## Word Frequency Analysis"
   ]
  },
  {
   "cell_type": "code",
   "execution_count": 66,
   "id": "557a5ddd-d009-4079-a4a4-beca720b6ebb",
   "metadata": {},
   "outputs": [],
   "source": [
    "# Using CountVectorizer to get the most frequent words in Ham and Spam Emails"
   ]
  },
  {
   "cell_type": "code",
   "execution_count": 67,
   "id": "1e97cb79-3e74-4f61-9e4c-727d2bac7568",
   "metadata": {},
   "outputs": [
    {
     "data": {
      "image/png": "[encoded data removed]",
      "text/plain": [
       "<Figure size 1000x400 with 1 Axes>"
      ]
     },
     "metadata": {},
     "output_type": "display_data"
    },
    {
     "data": {
      "image/png": "[encoded data removed]",
      "text/plain": [
       "<Figure size 1000x400 with 1 Axes>"
      ]
     },
     "metadata": {},
     "output_type": "display_data"
    }
   ],
   "source": [
    "from sklearn.feature_extraction.text import CountVectorizer\n",
    "\n",
    "# Separate spam and ham texts\n",
    "spam_texts = df[df['label_num'] == 1]['text']\n",
    "ham_texts = df[df['label_num'] == 0]['text']\n",
    "\n",
    "# Initialize vectorizer\n",
    "vectorizer = CountVectorizer(stop_words='english', max_features=20)\n",
    "\n",
    "# Fit and transform\n",
    "spam_counts = vectorizer.fit_transform(spam_texts)\n",
    "ham_counts = vectorizer.fit_transform(ham_texts)\n",
    "\n",
    "# Convert to DataFrame\n",
    "spam_word_freq = pd.DataFrame(spam_counts.toarray(), columns=vectorizer.get_feature_names_out()).sum().sort_values(ascending=False)\n",
    "ham_word_freq = pd.DataFrame(ham_counts.toarray(), columns=vectorizer.get_feature_names_out()).sum().sort_values(ascending=False)\n",
    "\n",
    "# Plot top spam words\n",
    "spam_word_freq.plot(kind='bar', title='Top Words in Spam Emails', figsize=(10, 4))\n",
    "plt.ylabel(\"Frequency\")\n",
    "plt.show()\n",
    "\n",
    "# Plot top ham words\n",
    "ham_word_freq.plot(kind='bar', title='Top Words in Ham Emails', figsize=(10, 4))\n",
    "plt.ylabel(\"Frequency\")\n",
    "plt.show()\n"
   ]
  },
  {
   "cell_type": "markdown",
   "id": "2dd1088a-76a7-4b07-ac00-b996164192e7",
   "metadata": {},
   "source": [
    "## Message Length Distribution"
   ]
  },
  {
   "cell_type": "code",
   "execution_count": 68,
   "id": "1f9b70cd-4725-4454-be29-53ac76ccbb0e",
   "metadata": {},
   "outputs": [],
   "source": [
    "# Looking to see if there is a pattern when it comes to message length"
   ]
  },
  {
   "cell_type": "code",
   "execution_count": 69,
   "id": "665163f8-209e-463e-b154-feff97805455",
   "metadata": {},
   "outputs": [
    {
     "data": {
      "image/png": "[encoded data removed]",
      "text/plain": [
       "<Figure size 1000x500 with 1 Axes>"
      ]
     },
     "metadata": {},
     "output_type": "display_data"
    }
   ],
   "source": [
    "# Add a column for message length\n",
    "df['message_length'] = df['text'].apply(len)\n",
    "\n",
    "# Plot distribution\n",
    "plt.figure(figsize=(10, 5))\n",
    "sns.histplot(data=df, x='message_length', hue='label_num', bins=50, kde=True, palette='Set1')\n",
    "plt.title('Message Length Distribution by Class')\n",
    "plt.xlabel('Message Length')\n",
    "plt.ylabel('Frequency')\n",
    "plt.legend(['Ham (0)', 'Spam (1)'])\n",
    "plt.show()\n"
   ]
  },
  {
   "cell_type": "code",
   "execution_count": 71,
   "id": "62f709c9-723f-4c0b-bc02-a6f245df3beb",
   "metadata": {},
   "outputs": [],
   "source": [
    "# Spam Emails tend to have a shorter length compared to Ham emails"
   ]
  },
  {
   "cell_type": "markdown",
   "id": "c31855a6-0932-4ecf-8e89-e862ceff82e7",
   "metadata": {},
   "source": [
    "## Advanced Text Preprocessing"
   ]
  },
  {
   "cell_type": "code",
   "execution_count": 72,
   "id": "1c9dbd34-147c-4e70-a605-c0e43ea7d858",
   "metadata": {},
   "outputs": [],
   "source": [
    "# Stemming the words"
   ]
  },
  {
   "cell_type": "code",
   "execution_count": 73,
   "id": "62792255-3225-4d75-9d13-cc472231b59c",
   "metadata": {},
   "outputs": [
    {
     "data": {
      "text/html": [
       "<div>\n",
       "<style scoped>\n",
       "    .dataframe tbody tr th:only-of-type {\n",
       "        vertical-align: middle;\n",
       "    }\n",
       "\n",
       "    .dataframe tbody tr th {\n",
       "        vertical-align: top;\n",
       "    }\n",
       "\n",
       "    .dataframe thead th {\n",
       "        text-align: right;\n",
       "    }\n",
       "</style>\n",
       "<table border=\"1\" class=\"dataframe\">\n",
       "  <thead>\n",
       "    <tr style=\"text-align: right;\">\n",
       "      <th></th>\n",
       "      <th>text</th>\n",
       "      <th>clean_text</th>\n",
       "    </tr>\n",
       "  </thead>\n",
       "  <tbody>\n",
       "    <tr>\n",
       "      <th>0</th>\n",
       "      <td>Subject: enron methanol ; meter # : 988291 thi...</td>\n",
       "      <td>subject enron methanol meter 988291 follow not...</td>\n",
       "    </tr>\n",
       "    <tr>\n",
       "      <th>1</th>\n",
       "      <td>Subject: hpl nom for january 9 , 2001 ( see at...</td>\n",
       "      <td>subject hpl nom januari 9 2001 see attach file...</td>\n",
       "    </tr>\n",
       "    <tr>\n",
       "      <th>2</th>\n",
       "      <td>Subject: neon retreat ho ho ho , we ' re aroun...</td>\n",
       "      <td>subject neon retreat ho ho ho around wonder ti...</td>\n",
       "    </tr>\n",
       "    <tr>\n",
       "      <th>3</th>\n",
       "      <td>Subject: photoshop , windows , office . cheap ...</td>\n",
       "      <td>subject photoshop window offic cheap main tren...</td>\n",
       "    </tr>\n",
       "    <tr>\n",
       "      <th>4</th>\n",
       "      <td>Subject: re : indian springs this deal is to b...</td>\n",
       "      <td>subject indian spring deal book teco pvr reven...</td>\n",
       "    </tr>\n",
       "  </tbody>\n",
       "</table>\n",
       "</div>"
      ],
      "text/plain": [
       "                                                text  \\\n",
       "0  Subject: enron methanol ; meter # : 988291 thi...   \n",
       "1  Subject: hpl nom for january 9 , 2001 ( see at...   \n",
       "2  Subject: neon retreat ho ho ho , we ' re aroun...   \n",
       "3  Subject: photoshop , windows , office . cheap ...   \n",
       "4  Subject: re : indian springs this deal is to b...   \n",
       "\n",
       "                                          clean_text  \n",
       "0  subject enron methanol meter 988291 follow not...  \n",
       "1  subject hpl nom januari 9 2001 see attach file...  \n",
       "2  subject neon retreat ho ho ho around wonder ti...  \n",
       "3  subject photoshop window offic cheap main tren...  \n",
       "4  subject indian spring deal book teco pvr reven...  "
      ]
     },
     "execution_count": 73,
     "metadata": {},
     "output_type": "execute_result"
    }
   ],
   "source": [
    "stop_words = set(stopwords.words('english'))\n",
    "ps = PorterStemmer()\n",
    "\n",
    "def preprocess_text(text):\n",
    "    # Remove punctuation\n",
    "    text = text.translate(str.maketrans('', '', string.punctuation))\n",
    "    # Convert to lowercase and tokenize\n",
    "    words = text.lower().split()\n",
    "    # Remove stopwords and apply stemming\n",
    "    filtered_words = [ps.stem(word) for word in words if word not in stop_words]\n",
    "    return ' '.join(filtered_words)\n",
    "\n",
    "# Apply preprocessing\n",
    "df['clean_text'] = df['text'].apply(preprocess_text)\n",
    "\n",
    "# Show before and after for a sanity check\n",
    "df[['text', 'clean_text']].head()\n"
   ]
  },
  {
   "cell_type": "code",
   "execution_count": 74,
   "id": "aede05dd-296b-4bba-b39d-996c5e86c67d",
   "metadata": {},
   "outputs": [],
   "source": [
    "# Using TfidfVectorizer to capture term importance"
   ]
  },
  {
   "cell_type": "code",
   "execution_count": 75,
   "id": "c85a3eaf-9bb1-4e0a-ad4a-919478cf34ff",
   "metadata": {},
   "outputs": [],
   "source": [
    "from sklearn.feature_extraction.text import TfidfVectorizer\n",
    "\n",
    "# Vectorize using TF-IDF\n",
    "tfidf = TfidfVectorizer(max_features=5000)  # Limit to 5000 features for performance\n",
    "X = tfidf.fit_transform(df['clean_text']).toarray()\n",
    "\n",
    "# Labels\n",
    "y = df['label_num']\n"
   ]
  },
  {
   "cell_type": "code",
   "execution_count": 76,
   "id": "08f9e611-aa98-4f39-acaf-8eb5444d4f5a",
   "metadata": {},
   "outputs": [],
   "source": [
    "# Re-Training the RandomForestClassifier using the new features"
   ]
  },
  {
   "cell_type": "code",
   "execution_count": 77,
   "id": "52f545e9-ce06-470d-bef1-4230fbe18c87",
   "metadata": {},
   "outputs": [
    {
     "name": "stdout",
     "output_type": "stream",
     "text": [
      "Accuracy: 0.9797101449275363\n",
      "\n",
      "Classification Report:\n",
      "               precision    recall  f1-score   support\n",
      "\n",
      "           0       0.99      0.98      0.99       742\n",
      "           1       0.95      0.98      0.96       293\n",
      "\n",
      "    accuracy                           0.98      1035\n",
      "   macro avg       0.97      0.98      0.98      1035\n",
      "weighted avg       0.98      0.98      0.98      1035\n",
      "\n",
      "\n",
      "Confusion Matrix:\n",
      " [[727  15]\n",
      " [  6 287]]\n"
     ]
    }
   ],
   "source": [
    "from sklearn.model_selection import train_test_split\n",
    "from sklearn.ensemble import RandomForestClassifier\n",
    "from sklearn.metrics import accuracy_score, classification_report, confusion_matrix\n",
    "\n",
    "# Split data\n",
    "X_train, X_test, y_train, y_test = train_test_split(X, y, test_size=0.2, random_state=42)\n",
    "\n",
    "# Train the model\n",
    "clf = RandomForestClassifier()\n",
    "clf.fit(X_train, y_train)\n",
    "\n",
    "# Predict\n",
    "y_pred = clf.predict(X_test)\n",
    "\n",
    "# Evaluate\n",
    "print(\"Accuracy:\", accuracy_score(y_test, y_pred))\n",
    "print(\"\\nClassification Report:\\n\", classification_report(y_test, y_pred))\n",
    "print(\"\\nConfusion Matrix:\\n\", confusion_matrix(y_test, y_pred))\n"
   ]
  },
  {
   "cell_type": "code",
   "execution_count": 78,
   "id": "3c4c5207-9b27-429d-bba7-417ef68828d0",
   "metadata": {},
   "outputs": [],
   "source": [
    "# The Confusion Matrix is showing whether the spam/ham emails were identified correctly or not"
   ]
  },
  {
   "cell_type": "markdown",
   "id": "11fc9bae-e545-4667-9cc7-406a0484f38e",
   "metadata": {},
   "source": [
    "### Visualizing the Confusion Matrix"
   ]
  },
  {
   "cell_type": "code",
   "execution_count": 79,
   "id": "31c9b2d8-2ab0-439c-89f3-49af8db8c3f9",
   "metadata": {},
   "outputs": [
    {
     "data": {
      "image/png": "[encoded data removed]",
      "text/plain": [
       "<Figure size 600x400 with 2 Axes>"
      ]
     },
     "metadata": {},
     "output_type": "display_data"
    }
   ],
   "source": [
    "import seaborn as sns\n",
    "import matplotlib.pyplot as plt\n",
    "from sklearn.metrics import confusion_matrix\n",
    "\n",
    "# Generate the confusion matrix\n",
    "cm = confusion_matrix(y_test, y_pred)\n",
    "\n",
    "# Plot it using seaborn\n",
    "plt.figure(figsize=(6, 4))\n",
    "sns.heatmap(cm, annot=True, fmt='d', cmap='Blues', xticklabels=['Ham', 'Spam'], yticklabels=['Ham', 'Spam'])\n",
    "plt.xlabel('Predicted')\n",
    "plt.ylabel('Actual')\n",
    "plt.title('Confusion Matrix')\n",
    "plt.show()\n"
   ]
  },
  {
   "cell_type": "markdown",
   "id": "acaf81f4-90a1-45de-bc31-76e3f4c6b60e",
   "metadata": {},
   "source": [
    "# Model Evaluation & HyperParameter Tuning"
   ]
  },
  {
   "cell_type": "markdown",
   "id": "f1e64ad0-b2ed-437b-843e-d351967bfdce",
   "metadata": {},
   "source": [
    "### Cross-Validation"
   ]
  },
  {
   "cell_type": "code",
   "execution_count": 80,
   "id": "a914ae85-4e44-4c46-bc41-70602748a9e7",
   "metadata": {},
   "outputs": [],
   "source": [
    "# Cross-validation helps evaluate the model’s stability across different splits of the data."
   ]
  },
  {
   "cell_type": "code",
   "execution_count": 81,
   "id": "29107148-48cd-41e7-85a8-339dcbfa3967",
   "metadata": {},
   "outputs": [
    {
     "name": "stdout",
     "output_type": "stream",
     "text": [
      "Cross-Validation Scores: [0.98550725 0.9787234  0.97485493 0.96421663 0.97098646]\n",
      "Average Accuracy: 0.9748577355422869\n"
     ]
    }
   ],
   "source": [
    "from sklearn.model_selection import cross_val_score\n",
    "\n",
    "# Use cross-validation on the whole dataset\n",
    "cross_val_scores = cross_val_score(clf, X, y, cv=5, scoring='accuracy')\n",
    "\n",
    "# Print scores and average\n",
    "print(\"Cross-Validation Scores:\", cross_val_scores)\n",
    "print(\"Average Accuracy:\", cross_val_scores.mean())\n"
   ]
  },
  {
   "cell_type": "code",
   "execution_count": 82,
   "id": "e398ff23-3f75-4e0c-8034-bfb564e254ce",
   "metadata": {},
   "outputs": [],
   "source": [
    "# The model is close to the test accuracy, therefore it is generalizing well"
   ]
  },
  {
   "cell_type": "markdown",
   "id": "c33101fa-62e1-440d-9f9c-932eb126761a",
   "metadata": {},
   "source": [
    "### HyperParameter Tuning"
   ]
  },
  {
   "cell_type": "code",
   "execution_count": 83,
   "id": "8d09b3b2-9e09-4b61-9bea-7951fab2020c",
   "metadata": {},
   "outputs": [
    {
     "name": "stdout",
     "output_type": "stream",
     "text": [
      "Fitting 5 folds for each of 18 candidates, totalling 90 fits\n",
      "Best Parameters: {'max_depth': None, 'min_samples_split': 2, 'n_estimators': 200}\n",
      "Best CV Accuracy: 0.9753404132274854\n",
      "Test Accuracy with Tuned Model: 0.9816425120772947\n"
     ]
    }
   ],
   "source": [
    "from sklearn.model_selection import GridSearchCV\n",
    "\n",
    "# Define the parameter grid\n",
    "param_grid = {\n",
    "    'n_estimators': [100, 200, 300],\n",
    "    'max_depth': [None, 10, 20],\n",
    "    'min_samples_split': [2, 5],\n",
    "}\n",
    "\n",
    "# Set up GridSearchCV\n",
    "grid_search = GridSearchCV(RandomForestClassifier(), param_grid, cv=5, scoring='accuracy', n_jobs=-1, verbose=1)\n",
    "\n",
    "# Run the search\n",
    "grid_search.fit(X_train, y_train)\n",
    "\n",
    "# Best model and parameters\n",
    "print(\"Best Parameters:\", grid_search.best_params_)\n",
    "print(\"Best CV Accuracy:\", grid_search.best_score_)\n",
    "\n",
    "# Evaluate the best model on test set\n",
    "best_model = grid_search.best_estimator_\n",
    "y_pred_best = best_model.predict(X_test)\n",
    "print(\"Test Accuracy with Tuned Model:\", accuracy_score(y_test, y_pred_best))\n"
   ]
  },
  {
   "cell_type": "markdown",
   "id": "dff2f0b1-fa5e-4679-8c3c-fa1a40068242",
   "metadata": {},
   "source": [
    "### HyperParameter Tuning with Naive Bayes"
   ]
  },
  {
   "cell_type": "code",
   "execution_count": 86,
   "id": "6082952f-6208-43d6-895d-ac5d323325d1",
   "metadata": {},
   "outputs": [
    {
     "name": "stdout",
     "output_type": "stream",
     "text": [
      "Accuracy (Naive Bayes): 0.957487922705314\n",
      "\n",
      "Classification Report:\n",
      "               precision    recall  f1-score   support\n",
      "\n",
      "           0       0.98      0.96      0.97       742\n",
      "           1       0.91      0.94      0.93       293\n",
      "\n",
      "    accuracy                           0.96      1035\n",
      "   macro avg       0.94      0.95      0.95      1035\n",
      "weighted avg       0.96      0.96      0.96      1035\n",
      "\n"
     ]
    }
   ],
   "source": [
    "from sklearn.naive_bayes import MultinomialNB\n",
    "\n",
    "# Initialize and train\n",
    "nb_model = MultinomialNB()\n",
    "nb_model.fit(X_train, y_train)\n",
    "\n",
    "# Predict\n",
    "y_pred_nb = nb_model.predict(X_test)\n",
    "\n",
    "# Evaluate\n",
    "print(\"Accuracy (Naive Bayes):\", accuracy_score(y_test, y_pred_nb))\n",
    "print(\"\\nClassification Report:\\n\", classification_report(y_test, y_pred_nb))\n"
   ]
  },
  {
   "cell_type": "code",
   "execution_count": 87,
   "id": "e4db7e0f-05ce-49d8-afc6-28ed35cd4d83",
   "metadata": {},
   "outputs": [],
   "source": [
    "# Naive Bayes seems to be less accurate than GridSearchCV"
   ]
  },
  {
   "cell_type": "code",
   "execution_count": 88,
   "id": "6c55cdda-5e87-475a-bd5f-676413cc0dc5",
   "metadata": {},
   "outputs": [
    {
     "name": "stdout",
     "output_type": "stream",
     "text": [
      "Best Alpha: {'alpha': 0.1}\n",
      "Best Cross-Validation Accuracy: 0.9605900495943083\n",
      "Test Accuracy with Tuned Naive Bayes: 0.9565217391304348\n"
     ]
    }
   ],
   "source": [
    "from sklearn.model_selection import GridSearchCV\n",
    "\n",
    "# Define param grid\n",
    "param_grid_nb = {\n",
    "    'alpha': [0.1, 0.5, 1.0, 2.0, 5.0]\n",
    "}\n",
    "\n",
    "# Set up GridSearchCV for Naive Bayes\n",
    "grid_nb = GridSearchCV(MultinomialNB(), param_grid_nb, cv=5, scoring='accuracy', n_jobs=-1)\n",
    "grid_nb.fit(X_train, y_train)\n",
    "\n",
    "# Results\n",
    "print(\"Best Alpha:\", grid_nb.best_params_)\n",
    "print(\"Best Cross-Validation Accuracy:\", grid_nb.best_score_)\n",
    "\n",
    "# Evaluate best model\n",
    "best_nb = grid_nb.best_estimator_\n",
    "y_pred_best_nb = best_nb.predict(X_test)\n",
    "print(\"Test Accuracy with Tuned Naive Bayes:\", accuracy_score(y_test, y_pred_best_nb))\n"
   ]
  },
  {
   "cell_type": "markdown",
   "id": "dbde38c6-0a63-4f18-bfb0-34ecd9c3dca3",
   "metadata": {},
   "source": [
    "### Naive Bayes (Tuned) Vs Random Forest (Tuned)"
   ]
  },
  {
   "cell_type": "code",
   "execution_count": 89,
   "id": "652b279a-6dad-4ac5-91c6-685d31ca43bc",
   "metadata": {},
   "outputs": [
    {
     "data": {
      "image/png": "[encoded data removed]",
      "text/plain": [
       "<Figure size 1000x500 with 1 Axes>"
      ]
     },
     "metadata": {},
     "output_type": "display_data"
    }
   ],
   "source": [
    "import matplotlib.pyplot as plt\n",
    "\n",
    "# Alpha values used in GridSearchCV\n",
    "alpha_values = [0.1, 0.5, 1.0, 2.0, 5.0]\n",
    "\n",
    "# Cross-validation accuracies for each alpha \n",
    "nb_accuracies = [0.9606, 0.957, 0.954, 0.951, 0.944]\n",
    "\n",
    "# Best Random Forest cross-validation accuracy\n",
    "rf_score = 0.971  \n",
    "\n",
    "\n",
    "plt.figure(figsize=(10, 5))\n",
    "plt.plot(alpha_values, nb_accuracies, marker='o', label='Naive Bayes Accuracy (CV)')\n",
    "\n",
    "for i, acc in enumerate(nb_accuracies):\n",
    "    plt.text(alpha_values[i], acc + 0.001, f'{acc:.3f}', ha='center', fontsize=9)\n",
    "\n",
    "plt.axhline(y=rf_score, color='r', linestyle='--', label=f'RandomForest Accuracy (CV): {rf_score:.4f}')\n",
    "plt.xlabel('Alpha (Naive Bayes Smoothing)')\n",
    "plt.ylabel('Cross-Validation Accuracy')\n",
    "plt.title('Naive Bayes vs Random Forest Accuracy Comparison')\n",
    "plt.legend()\n",
    "plt.grid(True)\n",
    "plt.tight_layout()\n",
    "plt.savefig(\"naive_vs_rf_accuracy.png\", dpi=300)\n",
    "plt.show()\n"
   ]
  },
  {
   "cell_type": "code",
   "execution_count": 90,
   "id": "bda91c53-dc91-4e46-a67b-4d1536548c67",
   "metadata": {},
   "outputs": [],
   "source": [
    "# Naive Bayes does well when the Alpha = 0.1, but the accuracy begins to drop after that"
   ]
  },
  {
   "cell_type": "markdown",
   "id": "2bb3a2e8-b58d-4576-b6d8-7668677fdb76",
   "metadata": {},
   "source": [
    "# Feature Engineering"
   ]
  },
  {
   "cell_type": "code",
   "execution_count": 91,
   "id": "1e19ce62-d3ab-40f9-b6ce-bb407a168af4",
   "metadata": {},
   "outputs": [
    {
     "data": {
      "text/html": [
       "<div>\n",
       "<style scoped>\n",
       "    .dataframe tbody tr th:only-of-type {\n",
       "        vertical-align: middle;\n",
       "    }\n",
       "\n",
       "    .dataframe tbody tr th {\n",
       "        vertical-align: top;\n",
       "    }\n",
       "\n",
       "    .dataframe thead th {\n",
       "        text-align: right;\n",
       "    }\n",
       "</style>\n",
       "<table border=\"1\" class=\"dataframe\">\n",
       "  <thead>\n",
       "    <tr style=\"text-align: right;\">\n",
       "      <th></th>\n",
       "      <th>text</th>\n",
       "      <th>uppercase_words</th>\n",
       "      <th>punctuation_count</th>\n",
       "      <th>message_length</th>\n",
       "      <th>digit_to_letter_ratio</th>\n",
       "    </tr>\n",
       "  </thead>\n",
       "  <tbody>\n",
       "    <tr>\n",
       "      <th>0</th>\n",
       "      <td>Subject: enron methanol ; meter # : 988291 thi...</td>\n",
       "      <td>0</td>\n",
       "      <td>15</td>\n",
       "      <td>322</td>\n",
       "      <td>0.043290</td>\n",
       "    </tr>\n",
       "    <tr>\n",
       "      <th>1</th>\n",
       "      <td>Subject: hpl nom for january 9 , 2001 ( see at...</td>\n",
       "      <td>0</td>\n",
       "      <td>8</td>\n",
       "      <td>95</td>\n",
       "      <td>0.160714</td>\n",
       "    </tr>\n",
       "    <tr>\n",
       "      <th>2</th>\n",
       "      <td>Subject: neon retreat ho ho ho , we ' re aroun...</td>\n",
       "      <td>0</td>\n",
       "      <td>82</td>\n",
       "      <td>2515</td>\n",
       "      <td>0.007487</td>\n",
       "    </tr>\n",
       "    <tr>\n",
       "      <th>3</th>\n",
       "      <td>Subject: photoshop , windows , office . cheap ...</td>\n",
       "      <td>0</td>\n",
       "      <td>5</td>\n",
       "      <td>404</td>\n",
       "      <td>0.000000</td>\n",
       "    </tr>\n",
       "    <tr>\n",
       "      <th>4</th>\n",
       "      <td>Subject: re : indian springs this deal is to b...</td>\n",
       "      <td>0</td>\n",
       "      <td>7</td>\n",
       "      <td>332</td>\n",
       "      <td>0.000000</td>\n",
       "    </tr>\n",
       "  </tbody>\n",
       "</table>\n",
       "</div>"
      ],
      "text/plain": [
       "                                                text  uppercase_words  \\\n",
       "0  Subject: enron methanol ; meter # : 988291 thi...                0   \n",
       "1  Subject: hpl nom for january 9 , 2001 ( see at...                0   \n",
       "2  Subject: neon retreat ho ho ho , we ' re aroun...                0   \n",
       "3  Subject: photoshop , windows , office . cheap ...                0   \n",
       "4  Subject: re : indian springs this deal is to b...                0   \n",
       "\n",
       "   punctuation_count  message_length  digit_to_letter_ratio  \n",
       "0                 15             322               0.043290  \n",
       "1                  8              95               0.160714  \n",
       "2                 82            2515               0.007487  \n",
       "3                  5             404               0.000000  \n",
       "4                  7             332               0.000000  "
      ]
     },
     "execution_count": 91,
     "metadata": {},
     "output_type": "execute_result"
    }
   ],
   "source": [
    "import re\n",
    "\n",
    "# Number of uppercase words in each message\n",
    "df['uppercase_words'] = df['text'].apply(lambda x: sum(1 for word in x.split() if word.isupper()))\n",
    "\n",
    "# Count of punctuation marks\n",
    "df['punctuation_count'] = df['text'].apply(lambda x: sum(1 for char in x if char in string.punctuation))\n",
    "\n",
    "# Message length (total number of characters)\n",
    "df['message_length'] = df['text'].apply(len)\n",
    "\n",
    "# Ratio of digits to letters\n",
    "def digit_letter_ratio(text):\n",
    "    digits = sum(c.isdigit() for c in text)\n",
    "    letters = sum(c.isalpha() for c in text)\n",
    "    return digits / letters if letters > 0 else 0\n",
    "\n",
    "df['digit_to_letter_ratio'] = df['text'].apply(digit_letter_ratio)\n",
    "\n",
    "# Preview the new engineered features\n",
    "df[['text', 'uppercase_words', 'punctuation_count', 'message_length', 'digit_to_letter_ratio']].head()\n"
   ]
  },
  {
   "cell_type": "code",
   "execution_count": null,
   "id": "1a5dd3b3-6f07-43f1-9c7f-8a816f08b015",
   "metadata": {},
   "outputs": [],
   "source": []
  }
 ],
 "metadata": {
  "kernelspec": {
   "display_name": "Python 3 (ipykernel)",
   "language": "python",
   "name": "python3"
  },
  "language_info": {
   "codemirror_mode": {
    "name": "ipython",
    "version": 3
   },
   "file_extension": ".py",
   "mimetype": "text/x-python",
   "name": "python",
   "nbconvert_exporter": "python",
   "pygments_lexer": "ipython3",
   "version": "3.9.6"
  }
 },
 "nbformat": 4,
 "nbformat_minor": 5
}
